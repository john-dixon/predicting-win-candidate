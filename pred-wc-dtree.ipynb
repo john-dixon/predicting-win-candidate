{
 "cells": [
  {
   "cell_type": "code",
   "execution_count": 1,
   "metadata": {},
   "outputs": [],
   "source": [
    "#https://medium.com/@rnbrown/creating-and-visualizing-decision-trees-with-python-f8e8fa394176"
   ]
  },
  {
   "cell_type": "code",
   "execution_count": 2,
   "metadata": {},
   "outputs": [],
   "source": [
    "import pandas as pd"
   ]
  },
  {
   "cell_type": "code",
   "execution_count": 3,
   "metadata": {},
   "outputs": [],
   "source": [
    "df = pd.read_csv('candidates.csv')"
   ]
  },
  {
   "cell_type": "code",
   "execution_count": 4,
   "metadata": {},
   "outputs": [
    {
     "data": {
      "text/plain": [
       "(7235, 16)"
      ]
     },
     "execution_count": 4,
     "metadata": {},
     "output_type": "execute_result"
    }
   ],
   "source": [
    "df.shape"
   ]
  },
  {
   "cell_type": "code",
   "execution_count": 5,
   "metadata": {},
   "outputs": [],
   "source": [
    "df = df.iloc[:,1:16]"
   ]
  },
  {
   "cell_type": "code",
   "execution_count": 6,
   "metadata": {},
   "outputs": [
    {
     "data": {
      "text/html": [
       "<div>\n",
       "<style>\n",
       "    .dataframe thead tr:only-child th {\n",
       "        text-align: right;\n",
       "    }\n",
       "\n",
       "    .dataframe thead th {\n",
       "        text-align: left;\n",
       "    }\n",
       "\n",
       "    .dataframe tbody tr th {\n",
       "        vertical-align: top;\n",
       "    }\n",
       "</style>\n",
       "<table border=\"1\" class=\"dataframe\">\n",
       "  <thead>\n",
       "    <tr style=\"text-align: right;\">\n",
       "      <th></th>\n",
       "      <th>req_id</th>\n",
       "      <th>src_sys_cd</th>\n",
       "      <th>LT</th>\n",
       "      <th>SubCnt</th>\n",
       "      <th>DistrCnt</th>\n",
       "      <th>RespCnt</th>\n",
       "      <th>CompSubClass</th>\n",
       "      <th>CompDistrClass</th>\n",
       "      <th>WinLose</th>\n",
       "      <th>NTE</th>\n",
       "      <th>SubRt</th>\n",
       "      <th>Sub_NTE</th>\n",
       "      <th>SubTime</th>\n",
       "      <th>SubRank</th>\n",
       "      <th>Result</th>\n",
       "    </tr>\n",
       "  </thead>\n",
       "  <tbody>\n",
       "    <tr>\n",
       "      <th>0</th>\n",
       "      <td>1002-1</td>\n",
       "      <td>BL</td>\n",
       "      <td>Admin / Clerical</td>\n",
       "      <td>4</td>\n",
       "      <td>6</td>\n",
       "      <td>4</td>\n",
       "      <td>Low</td>\n",
       "      <td>Medium</td>\n",
       "      <td>0</td>\n",
       "      <td>110.00</td>\n",
       "      <td>102.25</td>\n",
       "      <td>0.930</td>\n",
       "      <td>1.0</td>\n",
       "      <td>1</td>\n",
       "      <td>Interview</td>\n",
       "    </tr>\n",
       "    <tr>\n",
       "      <th>1</th>\n",
       "      <td>1002-1</td>\n",
       "      <td>BL</td>\n",
       "      <td>Admin / Clerical</td>\n",
       "      <td>4</td>\n",
       "      <td>6</td>\n",
       "      <td>4</td>\n",
       "      <td>Low</td>\n",
       "      <td>Medium</td>\n",
       "      <td>0</td>\n",
       "      <td>110.00</td>\n",
       "      <td>79.00</td>\n",
       "      <td>0.718</td>\n",
       "      <td>2.0</td>\n",
       "      <td>2</td>\n",
       "      <td>Shortlist</td>\n",
       "    </tr>\n",
       "    <tr>\n",
       "      <th>2</th>\n",
       "      <td>1002-1</td>\n",
       "      <td>BL</td>\n",
       "      <td>Admin / Clerical</td>\n",
       "      <td>4</td>\n",
       "      <td>6</td>\n",
       "      <td>4</td>\n",
       "      <td>Low</td>\n",
       "      <td>Medium</td>\n",
       "      <td>1</td>\n",
       "      <td>110.00</td>\n",
       "      <td>98.00</td>\n",
       "      <td>0.891</td>\n",
       "      <td>3.0</td>\n",
       "      <td>3</td>\n",
       "      <td>Hire</td>\n",
       "    </tr>\n",
       "    <tr>\n",
       "      <th>3</th>\n",
       "      <td>1002-1</td>\n",
       "      <td>BL</td>\n",
       "      <td>Admin / Clerical</td>\n",
       "      <td>4</td>\n",
       "      <td>6</td>\n",
       "      <td>4</td>\n",
       "      <td>Low</td>\n",
       "      <td>Medium</td>\n",
       "      <td>0</td>\n",
       "      <td>110.00</td>\n",
       "      <td>79.00</td>\n",
       "      <td>0.718</td>\n",
       "      <td>8.0</td>\n",
       "      <td>4</td>\n",
       "      <td>Interview</td>\n",
       "    </tr>\n",
       "    <tr>\n",
       "      <th>4</th>\n",
       "      <td>10025-1</td>\n",
       "      <td>BL</td>\n",
       "      <td>Engineering</td>\n",
       "      <td>16</td>\n",
       "      <td>7</td>\n",
       "      <td>4</td>\n",
       "      <td>High</td>\n",
       "      <td>Medium</td>\n",
       "      <td>0</td>\n",
       "      <td>1398.13</td>\n",
       "      <td>1100.00</td>\n",
       "      <td>0.787</td>\n",
       "      <td>8.0</td>\n",
       "      <td>1</td>\n",
       "      <td>Shortlist</td>\n",
       "    </tr>\n",
       "  </tbody>\n",
       "</table>\n",
       "</div>"
      ],
      "text/plain": [
       "                      req_id  src_sys_cd                LT  SubCnt  DistrCnt  \\\n",
       "0  1002-1                     BL          Admin / Clerical       4         6   \n",
       "1  1002-1                     BL          Admin / Clerical       4         6   \n",
       "2  1002-1                     BL          Admin / Clerical       4         6   \n",
       "3  1002-1                     BL          Admin / Clerical       4         6   \n",
       "4  10025-1                    BL               Engineering      16         7   \n",
       "\n",
       "   RespCnt CompSubClass CompDistrClass  WinLose      NTE    SubRt  Sub_NTE  \\\n",
       "0        4          Low         Medium        0   110.00   102.25    0.930   \n",
       "1        4          Low         Medium        0   110.00    79.00    0.718   \n",
       "2        4          Low         Medium        1   110.00    98.00    0.891   \n",
       "3        4          Low         Medium        0   110.00    79.00    0.718   \n",
       "4        4         High         Medium        0  1398.13  1100.00    0.787   \n",
       "\n",
       "   SubTime  SubRank     Result  \n",
       "0      1.0        1  Interview  \n",
       "1      2.0        2  Shortlist  \n",
       "2      3.0        3       Hire  \n",
       "3      8.0        4  Interview  \n",
       "4      8.0        1  Shortlist  "
      ]
     },
     "execution_count": 6,
     "metadata": {},
     "output_type": "execute_result"
    }
   ],
   "source": [
    "df.head()"
   ]
  },
  {
   "cell_type": "code",
   "execution_count": 7,
   "metadata": {},
   "outputs": [],
   "source": [
    "df = df.drop('req_id',axis=1)"
   ]
  },
  {
   "cell_type": "code",
   "execution_count": 8,
   "metadata": {},
   "outputs": [
    {
     "data": {
      "text/html": [
       "<div>\n",
       "<style>\n",
       "    .dataframe thead tr:only-child th {\n",
       "        text-align: right;\n",
       "    }\n",
       "\n",
       "    .dataframe thead th {\n",
       "        text-align: left;\n",
       "    }\n",
       "\n",
       "    .dataframe tbody tr th {\n",
       "        vertical-align: top;\n",
       "    }\n",
       "</style>\n",
       "<table border=\"1\" class=\"dataframe\">\n",
       "  <thead>\n",
       "    <tr style=\"text-align: right;\">\n",
       "      <th></th>\n",
       "      <th>Result</th>\n",
       "    </tr>\n",
       "  </thead>\n",
       "  <tbody>\n",
       "    <tr>\n",
       "      <th>0</th>\n",
       "      <td>Interview</td>\n",
       "    </tr>\n",
       "    <tr>\n",
       "      <th>1</th>\n",
       "      <td>Shortlist</td>\n",
       "    </tr>\n",
       "    <tr>\n",
       "      <th>2</th>\n",
       "      <td>Hire</td>\n",
       "    </tr>\n",
       "    <tr>\n",
       "      <th>3</th>\n",
       "      <td>Interview</td>\n",
       "    </tr>\n",
       "    <tr>\n",
       "      <th>4</th>\n",
       "      <td>Shortlist</td>\n",
       "    </tr>\n",
       "  </tbody>\n",
       "</table>\n",
       "</div>"
      ],
      "text/plain": [
       "      Result\n",
       "0  Interview\n",
       "1  Shortlist\n",
       "2       Hire\n",
       "3  Interview\n",
       "4  Shortlist"
      ]
     },
     "execution_count": 8,
     "metadata": {},
     "output_type": "execute_result"
    }
   ],
   "source": [
    "y=df[['Result']]\n",
    "y.head()"
   ]
  },
  {
   "cell_type": "code",
   "execution_count": 10,
   "metadata": {},
   "outputs": [],
   "source": [
    "from sklearn import preprocessing"
   ]
  },
  {
   "cell_type": "code",
   "execution_count": 11,
   "metadata": {},
   "outputs": [],
   "source": [
    "le = preprocessing.LabelEncoder()"
   ]
  },
  {
   "cell_type": "code",
   "execution_count": 12,
   "metadata": {},
   "outputs": [
    {
     "data": {
      "text/html": [
       "<div>\n",
       "<style>\n",
       "    .dataframe thead tr:only-child th {\n",
       "        text-align: right;\n",
       "    }\n",
       "\n",
       "    .dataframe thead th {\n",
       "        text-align: left;\n",
       "    }\n",
       "\n",
       "    .dataframe tbody tr th {\n",
       "        vertical-align: top;\n",
       "    }\n",
       "</style>\n",
       "<table border=\"1\" class=\"dataframe\">\n",
       "  <thead>\n",
       "    <tr style=\"text-align: right;\">\n",
       "      <th></th>\n",
       "      <th>src_sys_cd_IQN</th>\n",
       "      <th>src_sys_cd_PF</th>\n",
       "      <th>LT_Admin / Clerical</th>\n",
       "      <th>LT_Business Professional</th>\n",
       "      <th>LT_Call Center</th>\n",
       "      <th>LT_Engineering</th>\n",
       "      <th>LT_Healthcare</th>\n",
       "      <th>LT_Information Technology</th>\n",
       "      <th>LT_Legal</th>\n",
       "      <th>LT_Light Industrial</th>\n",
       "      <th>LT_Scientific</th>\n",
       "      <th>CompSubClass_Low</th>\n",
       "      <th>CompSubClass_Medium</th>\n",
       "      <th>CompDistrClass_Low</th>\n",
       "      <th>CompDistrClass_Medium</th>\n",
       "    </tr>\n",
       "  </thead>\n",
       "  <tbody>\n",
       "    <tr>\n",
       "      <th>0</th>\n",
       "      <td>0</td>\n",
       "      <td>0</td>\n",
       "      <td>1</td>\n",
       "      <td>0</td>\n",
       "      <td>0</td>\n",
       "      <td>0</td>\n",
       "      <td>0</td>\n",
       "      <td>0</td>\n",
       "      <td>0</td>\n",
       "      <td>0</td>\n",
       "      <td>0</td>\n",
       "      <td>1</td>\n",
       "      <td>0</td>\n",
       "      <td>0</td>\n",
       "      <td>1</td>\n",
       "    </tr>\n",
       "    <tr>\n",
       "      <th>1</th>\n",
       "      <td>0</td>\n",
       "      <td>0</td>\n",
       "      <td>1</td>\n",
       "      <td>0</td>\n",
       "      <td>0</td>\n",
       "      <td>0</td>\n",
       "      <td>0</td>\n",
       "      <td>0</td>\n",
       "      <td>0</td>\n",
       "      <td>0</td>\n",
       "      <td>0</td>\n",
       "      <td>1</td>\n",
       "      <td>0</td>\n",
       "      <td>0</td>\n",
       "      <td>1</td>\n",
       "    </tr>\n",
       "    <tr>\n",
       "      <th>2</th>\n",
       "      <td>0</td>\n",
       "      <td>0</td>\n",
       "      <td>1</td>\n",
       "      <td>0</td>\n",
       "      <td>0</td>\n",
       "      <td>0</td>\n",
       "      <td>0</td>\n",
       "      <td>0</td>\n",
       "      <td>0</td>\n",
       "      <td>0</td>\n",
       "      <td>0</td>\n",
       "      <td>1</td>\n",
       "      <td>0</td>\n",
       "      <td>0</td>\n",
       "      <td>1</td>\n",
       "    </tr>\n",
       "    <tr>\n",
       "      <th>3</th>\n",
       "      <td>0</td>\n",
       "      <td>0</td>\n",
       "      <td>1</td>\n",
       "      <td>0</td>\n",
       "      <td>0</td>\n",
       "      <td>0</td>\n",
       "      <td>0</td>\n",
       "      <td>0</td>\n",
       "      <td>0</td>\n",
       "      <td>0</td>\n",
       "      <td>0</td>\n",
       "      <td>1</td>\n",
       "      <td>0</td>\n",
       "      <td>0</td>\n",
       "      <td>1</td>\n",
       "    </tr>\n",
       "    <tr>\n",
       "      <th>4</th>\n",
       "      <td>0</td>\n",
       "      <td>0</td>\n",
       "      <td>0</td>\n",
       "      <td>0</td>\n",
       "      <td>0</td>\n",
       "      <td>1</td>\n",
       "      <td>0</td>\n",
       "      <td>0</td>\n",
       "      <td>0</td>\n",
       "      <td>0</td>\n",
       "      <td>0</td>\n",
       "      <td>0</td>\n",
       "      <td>0</td>\n",
       "      <td>0</td>\n",
       "      <td>1</td>\n",
       "    </tr>\n",
       "  </tbody>\n",
       "</table>\n",
       "</div>"
      ],
      "text/plain": [
       "   src_sys_cd_IQN         src_sys_cd_PF          LT_Admin / Clerical  \\\n",
       "0                      0                      0                    1   \n",
       "1                      0                      0                    1   \n",
       "2                      0                      0                    1   \n",
       "3                      0                      0                    1   \n",
       "4                      0                      0                    0   \n",
       "\n",
       "   LT_Business Professional  LT_Call Center  LT_Engineering  LT_Healthcare  \\\n",
       "0                         0               0               0              0   \n",
       "1                         0               0               0              0   \n",
       "2                         0               0               0              0   \n",
       "3                         0               0               0              0   \n",
       "4                         0               0               1              0   \n",
       "\n",
       "   LT_Information Technology  LT_Legal  LT_Light Industrial  LT_Scientific  \\\n",
       "0                          0         0                    0              0   \n",
       "1                          0         0                    0              0   \n",
       "2                          0         0                    0              0   \n",
       "3                          0         0                    0              0   \n",
       "4                          0         0                    0              0   \n",
       "\n",
       "   CompSubClass_Low  CompSubClass_Medium  CompDistrClass_Low  \\\n",
       "0                 1                    0                   0   \n",
       "1                 1                    0                   0   \n",
       "2                 1                    0                   0   \n",
       "3                 1                    0                   0   \n",
       "4                 0                    0                   0   \n",
       "\n",
       "   CompDistrClass_Medium  \n",
       "0                      1  \n",
       "1                      1  \n",
       "2                      1  \n",
       "3                      1  \n",
       "4                      1  "
      ]
     },
     "execution_count": 12,
     "metadata": {},
     "output_type": "execute_result"
    }
   ],
   "source": [
    "one_hot_data= pd.get_dummies(df[['src_sys_cd','LT','CompSubClass','CompDistrClass']],drop_first=True)\n",
    "one_hot_data.head()"
   ]
  },
  {
   "cell_type": "code",
   "execution_count": 14,
   "metadata": {},
   "outputs": [
    {
     "data": {
      "text/plain": [
       "DecisionTreeClassifier(class_weight=None, criterion='gini', max_depth=None,\n",
       "            max_features=None, max_leaf_nodes=None,\n",
       "            min_impurity_decrease=0.0, min_impurity_split=None,\n",
       "            min_samples_leaf=1, min_samples_split=2,\n",
       "            min_weight_fraction_leaf=0.0, presort=False, random_state=None,\n",
       "            splitter='best')"
      ]
     },
     "execution_count": 14,
     "metadata": {},
     "output_type": "execute_result"
    }
   ],
   "source": [
    "from sklearn.tree import DecisionTreeClassifier\n",
    "dtree=DecisionTreeClassifier()\n",
    "dtree.fit(one_hot_data,y)"
   ]
  },
  {
   "cell_type": "code",
   "execution_count": 16,
   "metadata": {},
   "outputs": [
    {
     "ename": "ModuleNotFoundError",
     "evalue": "No module named 'pydotplus'",
     "output_type": "error",
     "traceback": [
      "\u001b[1;31m---------------------------------------------------------------------------\u001b[0m",
      "\u001b[1;31mModuleNotFoundError\u001b[0m                       Traceback (most recent call last)",
      "\u001b[1;32m<ipython-input-16-aa9a319ee68c>\u001b[0m in \u001b[0;36m<module>\u001b[1;34m()\u001b[0m\n\u001b[0;32m      2\u001b[0m \u001b[1;32mfrom\u001b[0m \u001b[0mIPython\u001b[0m\u001b[1;33m.\u001b[0m\u001b[0mdisplay\u001b[0m \u001b[1;32mimport\u001b[0m \u001b[0mImage\u001b[0m\u001b[1;33m\u001b[0m\u001b[0m\n\u001b[0;32m      3\u001b[0m \u001b[1;32mfrom\u001b[0m \u001b[0msklearn\u001b[0m\u001b[1;33m.\u001b[0m\u001b[0mtree\u001b[0m \u001b[1;32mimport\u001b[0m \u001b[0mexport_graphviz\u001b[0m\u001b[1;33m\u001b[0m\u001b[0m\n\u001b[1;32m----> 4\u001b[1;33m \u001b[1;32mimport\u001b[0m \u001b[0mpydotplus\u001b[0m\u001b[1;33m\u001b[0m\u001b[0m\n\u001b[0m\u001b[0;32m      5\u001b[0m \u001b[0mdot_data\u001b[0m \u001b[1;33m=\u001b[0m \u001b[0mStringIO\u001b[0m\u001b[1;33m(\u001b[0m\u001b[1;33m)\u001b[0m\u001b[1;33m\u001b[0m\u001b[0m\n\u001b[0;32m      6\u001b[0m export_graphviz(dtree, out_file=dot_data,  \n",
      "\u001b[1;31mModuleNotFoundError\u001b[0m: No module named 'pydotplus'"
     ]
    }
   ],
   "source": [
    "from sklearn.externals.six import StringIO  \n",
    "from IPython.display import Image  \n",
    "from sklearn.tree import export_graphviz\n",
    "import pydotplus\n",
    "dot_data = StringIO()\n",
    "export_graphviz(dtree, out_file=dot_data,  \n",
    "                filled=True, rounded=True,\n",
    "                special_characters=True)"
   ]
  },
  {
   "cell_type": "code",
   "execution_count": null,
   "metadata": {},
   "outputs": [],
   "source": [
    "graph = pydotplus.graph_from_dot_data(dot_data.getvalue())  "
   ]
  },
  {
   "cell_type": "code",
   "execution_count": null,
   "metadata": {},
   "outputs": [],
   "source": [
    "#read this if first time in new environment\n",
    "#install graph viz from https://graphviz.gitlab.io/_pages/Download/Download_windows.html\n",
    "#https://stackoverflow.com/questions/18438997/why-is-pydot-unable-to-find-graphvizs-executables-in-windows-8"
   ]
  },
  {
   "cell_type": "code",
   "execution_count": null,
   "metadata": {},
   "outputs": [],
   "source": [
    "import os     \n",
    "os.environ[\"PATH\"] += os.pathsep + 'C:/Program Files (x86)/Graphviz2.38/bin/'"
   ]
  },
  {
   "cell_type": "code",
   "execution_count": null,
   "metadata": {},
   "outputs": [],
   "source": [
    "Image(graph.create_png())"
   ]
  }
 ],
 "metadata": {
  "kernelspec": {
   "display_name": "Python 3",
   "language": "python",
   "name": "python3"
  },
  "language_info": {
   "codemirror_mode": {
    "name": "ipython",
    "version": 3
   },
   "file_extension": ".py",
   "mimetype": "text/x-python",
   "name": "python",
   "nbconvert_exporter": "python",
   "pygments_lexer": "ipython3",
   "version": "3.6.1"
  }
 },
 "nbformat": 4,
 "nbformat_minor": 2
}
